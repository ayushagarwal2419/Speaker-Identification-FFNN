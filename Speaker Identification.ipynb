{
 "cells": [
  {
   "cell_type": "markdown",
   "metadata": {},
   "source": [
    "# Basic tutorial on building speaker identification system using Pytorch"
   ]
  },
  {
   "cell_type": "markdown",
   "metadata": {},
   "source": [
    "* Presenter: Ayush Agarwal\n",
    "* Date: 09/07/2021"
   ]
  },
  {
   "cell_type": "markdown",
   "metadata": {},
   "source": [
    "### Installation of libraries to be used"
   ]
  },
  {
   "cell_type": "code",
   "execution_count": null,
   "metadata": {},
   "outputs": [],
   "source": [
    "pip install torch librosa pysptk pyworld "
   ]
  },
  {
   "cell_type": "markdown",
   "metadata": {},
   "source": [
    "### Importing installed libraries and packages"
   ]
  },
  {
   "cell_type": "code",
   "execution_count": 6,
   "metadata": {},
   "outputs": [],
   "source": [
    "import torch\n",
    "import torch.nn as nn\n",
    "import torch.nn.functional as F\n",
    "import torch.optim as optim\n",
    "import torch.utils.data as Data\n",
    "\n",
    "import os\n",
    "\n",
    "import scipy.io as sio\n",
    "\n",
    "import librosa #taking speech files as input#\n",
    "import matplotlib.pyplot as plt # ploting# \n",
    "import numpy as np #mathematical operations#\n",
    "import random\n",
    "import pysptk  # signal processing toolkit #\n",
    "import pyworld # signal processing toolkit #\n",
    "from sklearn.model_selection import train_test_split \n",
    "\n",
    "import soundfile"
   ]
  },
  {
   "cell_type": "markdown",
   "metadata": {},
   "source": [
    "### Speaker identification(SID)"
   ]
  },
  {
   "cell_type": "markdown",
   "metadata": {},
   "source": [
    "#### Basic flow of SID"
   ]
  },
  {
   "attachments": {
    "Source%20filter%20model%20%282%29.png": {
     "image/png": "[encoded data removed]"
    }
   },
   "cell_type": "markdown",
   "metadata": {},
   "source": [
    "![Source%20filter%20model%20%282%29.png](attachment:Source%20filter%20model%20%282%29.png)"
   ]
  },
  {
   "cell_type": "markdown",
   "metadata": {},
   "source": [
    "## SID using pytorch\n",
    "\n",
    "* Feature extraction\n",
    "* Spliting training and validation data\n",
    "* Dataset and Dataloaders\n",
    "* Modelling using feed forward neural network (FFNN)\n",
    "    * Weight initialization, optimizer and loss function\n",
    "    * Training and validation\n",
    "    * Checkpoint for the model\n",
    "* Testing\n",
    "    * Load saved checkpoint\n",
    "    * Test for new input"
   ]
  },
  {
   "cell_type": "markdown",
   "metadata": {},
   "source": [
    "### Feature extraction"
   ]
  },
  {
   "cell_type": "markdown",
   "metadata": {},
   "source": [
    "* Speech has lots of information which may be redundant. So, depending upon the application we need to extract those information that are useful for the task we perform.\n",
    "\n",
    "* For speaker identification (SID) application we need to use those features that are unique for a speaker.\n",
    "\n",
    "* [Mel frequency cepstral coeffients (MFCCs)](http://practicalcryptography.com/miscellaneous/machine-learning/guide-mel-frequency-cepstral-coefficients-mfccs/) are used as it contains speaker specific feature for SID task.\n",
    "\n"
   ]
  },
  {
   "cell_type": "code",
   "execution_count": 7,
   "metadata": {},
   "outputs": [],
   "source": [
    "class feature_extraction:\n",
    "    def __init__(self,folderPath=\"/home/sysad/Documents/IEEE_Summer_school/gitrepos/IEEE-Summer-School/Day_4_SID/Dataset\",\n",
    "                 spk_folder=\"Train_Folder\"):\n",
    "        \n",
    "        ## GET THE SPEECH FILES FROM THE DATASET FOLDER HIERARCHY\n",
    "        \n",
    "        ## Dataset --> Train_Folder --> Speakers (1002, 1011,...) --> Speech files (.wav files)\n",
    "        \n",
    "        \n",
    "        \n",
    "        self.folderPath = folderPath\n",
    "        self.spk_folder = spk_folder\n",
    "        \n",
    "        self.spk_folder_path = os.path.join(self.folderPath, self.spk_folder)\n",
    "        self.spk_names = os.listdir(self.spk_folder_path)\n",
    "        self.spk_names.sort()\n",
    "        self.spk_names = np.asarray(self.spk_names)\n",
    " \n",
    "        print(self.spk_names)\n",
    "        print(\"Speaker path is:\", self.spk_folder_path)\n",
    "        \n",
    "        ## Dataset --> Train_Folder --> Speakers (1002, 1011,...) -->\n",
    "        \n",
    "        ##### Initialization of variables #####\n",
    "        self.spk_index=[]\n",
    "        self.file_features = np.zeros((1,25))\n",
    "        self.labels = np.zeros((1,1))        \n",
    "        #######################################\n",
    "        \n",
    "        for speakers in range(len(self.spk_names)):\n",
    "            self.speaker = self.spk_names[speakers]\n",
    "            self.spk_file_path = os.path.join(self.folderPath, self.spk_folder, self.speaker) \n",
    "            self.spk_file = os.listdir(self.spk_file_path)\n",
    "            self.spk_file.sort()\n",
    "\n",
    "            \n",
    "            ## Dataset --> Train_Folder --> Speakers (1002, 1011,...) --> Speech files (.wav files)\n",
    "            \n",
    "            for i in range(len(self.spk_file)):\n",
    "                wav_path = os.path.join(self.folderPath, self.spk_folder, self.speaker, self.spk_file[i])\n",
    "                \n",
    "                \n",
    "                self.spk_index.append(self.spk_file[i][0:4])\n",
    "            \n",
    "                ########## MFCC feature extraction from speech utterance #############\n",
    "                frame_period = 5\n",
    "                fftlen = pyworld.get_cheaptrick_fft_size(8000)\n",
    "                alpha = pysptk.util.mcepalpha(8000)\n",
    "                order = 24\n",
    "        \n",
    "                speech, fs = librosa.load(wav_path, sr=8000)\n",
    "                speech = speech.astype(np.float64)\n",
    "                f0, time_axis = pyworld.dio(speech, fs, frame_period=frame_period)\n",
    "                f0 = pyworld.stonemask(speech, f0, time_axis, fs)\n",
    "                spectrogram = pyworld.cheaptrick(speech, f0, time_axis, fs)\n",
    "                mfcc = pysptk.sp2mc(spectrogram, order=order, alpha= alpha)\n",
    "                ######################################################################\n",
    "                \n",
    "                file_feats = np.asmatrix(mfcc[:,:])\n",
    "               \n",
    "                self.file_features = np.concatenate((self.file_features, file_feats),axis=0)\n",
    "                \n",
    "                self.labels = np.concatenate( (self.labels,np.ones((len(file_feats),1))*speakers), axis=0)\n",
    "#                 print(len(self.labels))\n",
    "                print(\"Label for \",self.spk_file[i],\" is \",speakers, \"with size of: \", np.shape(file_feats))\n",
    "                \n",
    "\n",
    "        self.file_features = self.file_features[1:,:]\n",
    "        self.labels = self.labels[1:,:]\n",
    "        \n",
    "        print(\"Size of features are: \", np.shape(self.file_features))\n",
    "        print(\"Size of labels are: \", np.shape(self.labels))"
   ]
  },
  {
   "cell_type": "code",
   "execution_count": 8,
   "metadata": {},
   "outputs": [
    {
     "name": "stdout",
     "output_type": "stream",
     "text": [
      "['1002' '1011' '2029' '2030' '2033']\n",
      "Speaker path is: /home/sysad/Documents/IEEE_Summer_school/gitrepos/IEEE-Summer-School/Day_4_SID/Dataset/Train_Folder\n",
      "Label for  1002_AH01OENC.wav  is  0 with size of:  (24034, 25)\n",
      "Label for  1011_AH01OENC.wav  is  1 with size of:  (24046, 25)\n",
      "Label for  2029_AH01OENC.wav  is  2 with size of:  (12064, 25)\n",
      "Label for  2029_BH01OENC.wav  is  2 with size of:  (12064, 25)\n",
      "Label for  2030_AH01OENC.wav  is  3 with size of:  (12088, 25)\n",
      "Label for  2030_BH01OENC.wav  is  3 with size of:  (12190, 25)\n",
      "Label for  2033_AH01OENC.wav  is  4 with size of:  (12136, 25)\n",
      "Label for  2033_BH01OENC.wav  is  4 with size of:  (12112, 25)\n",
      "Size of features are:  (120734, 25)\n",
      "Size of labels are:  (120734, 1)\n"
     ]
    }
   ],
   "source": [
    "a = feature_extraction()"
   ]
  },
  {
   "cell_type": "code",
   "execution_count": 9,
   "metadata": {},
   "outputs": [],
   "source": [
    "data = a.file_features\n",
    "label= a.labels"
   ]
  },
  {
   "cell_type": "code",
   "execution_count": 10,
   "metadata": {},
   "outputs": [
    {
     "data": {
      "text/plain": [
       "matrix([[-2.52457513e+00,  1.79384633e+00,  9.89333713e-01,\n",
       "         -3.22164774e-01, -2.93055478e-01, -2.43077094e-02,\n",
       "          2.64698245e-02,  2.06441843e-02, -4.72355549e-02,\n",
       "          5.69347296e-02, -4.79692299e-02, -1.98105742e-03,\n",
       "          5.12120181e-02, -6.20854440e-02,  5.53206294e-02,\n",
       "         -2.85714059e-02,  4.64764419e-03,  1.98134331e-03,\n",
       "         -1.65741032e-03,  4.89932438e-03, -6.09924433e-03,\n",
       "          2.90493899e-03, -7.73400432e-04,  1.60208205e-04,\n",
       "         -2.95283598e-04]])"
      ]
     },
     "execution_count": 10,
     "metadata": {},
     "output_type": "execute_result"
    }
   ],
   "source": [
    "data[0]"
   ]
  },
  {
   "cell_type": "code",
   "execution_count": 11,
   "metadata": {},
   "outputs": [
    {
     "data": {
      "text/plain": [
       "array([0.])"
      ]
     },
     "execution_count": 11,
     "metadata": {},
     "output_type": "execute_result"
    }
   ],
   "source": [
    "label[0]"
   ]
  },
  {
   "cell_type": "markdown",
   "metadata": {},
   "source": [
    "### Spliting the dataset into training and validation set"
   ]
  },
  {
   "cell_type": "code",
   "execution_count": 12,
   "metadata": {},
   "outputs": [],
   "source": [
    "X_train, X_valid, Y_train, Y_valid = train_test_split(data, label, test_size = 0.1, random_state=1,shuffle=True)"
   ]
  },
  {
   "cell_type": "code",
   "execution_count": 13,
   "metadata": {},
   "outputs": [
    {
     "data": {
      "text/plain": [
       "(108660, 25)"
      ]
     },
     "execution_count": 13,
     "metadata": {},
     "output_type": "execute_result"
    }
   ],
   "source": [
    "np.shape(X_train)"
   ]
  },
  {
   "cell_type": "code",
   "execution_count": 14,
   "metadata": {},
   "outputs": [
    {
     "data": {
      "text/plain": [
       "(12074, 25)"
      ]
     },
     "execution_count": 14,
     "metadata": {},
     "output_type": "execute_result"
    }
   ],
   "source": [
    "np.shape(X_valid)"
   ]
  },
  {
   "cell_type": "markdown",
   "metadata": {},
   "source": [
    "### Datasets and Dataloaders\n",
    "\n",
    "* **Dataset** makes the extracted features ready so that data gets easily coupled to the deep learning network. Dataset stores the samples and their corresponding labels.\n",
    "* **DataLoader** helps to pass samples in \"minibatches\", reshuffle the data at every epoch to reduce model overfitting and enables multiprocessing to speed up data retrival."
   ]
  },
  {
   "cell_type": "code",
   "execution_count": 15,
   "metadata": {},
   "outputs": [],
   "source": [
    "#%% used for dataset preparation\n",
    "class Dataset(Data.Dataset):\n",
    "    def __init__(self, feat=None, label=None):\n",
    "        super(Dataset, self).__init__()\n",
    "        self.feat = feat\n",
    "        self.label = label\n",
    "        print(np.shape(feat))\n",
    "        print(np.shape(label))\n",
    "        \n",
    "    def __len__(self):\n",
    "\n",
    "        \n",
    "        return self.feat.shape[0]\n",
    "        \n",
    "    def __getitem__(self, index):\n",
    "        vector = self.feat[index]\n",
    "        lab=self.label[index]\n",
    "\n",
    "        feat = torch.from_numpy(vector)  ## to use torch we need to convert numpy array/matrix to tensor\n",
    "        label= torch.from_numpy(lab)\n",
    "        return feat, label"
   ]
  },
  {
   "cell_type": "code",
   "execution_count": 16,
   "metadata": {},
   "outputs": [
    {
     "name": "stdout",
     "output_type": "stream",
     "text": [
      "(108660, 25)\n",
      "(108660, 1)\n",
      "(12074, 25)\n",
      "(12074, 1)\n"
     ]
    }
   ],
   "source": [
    "data_train=Dataset(feat=X_train,label=Y_train)\n",
    "train_loader = Data.DataLoader(data_train, shuffle=True, batch_size=10, pin_memory=True, num_workers=4)\n",
    "data_valid=Dataset(feat=X_valid,label=Y_valid)\n",
    "valid_loader = Data.DataLoader(data_valid, shuffle=True, batch_size=10, pin_memory=True, num_workers=4)"
   ]
  },
  {
   "cell_type": "markdown",
   "metadata": {},
   "source": [
    "### Feed forward neural network"
   ]
  },
  {
   "attachments": {
    "Topology-of-a-multilayer-feed-forward-neural-network-used-for-classification.png": {
     "image/png": "[encoded data removed]"
    }
   },
   "cell_type": "markdown",
   "metadata": {},
   "source": [
    "![Topology-of-a-multilayer-feed-forward-neural-network-used-for-classification.png](attachment:Topology-of-a-multilayer-feed-forward-neural-network-used-for-classification.png)"
   ]
  },
  {
   "cell_type": "markdown",
   "metadata": {},
   "source": [
    "[Ref](https://www.google.com/url?sa=i&url=https%3A%2F%2Fwww.researchgate.net%2Ffigure%2FTopology-of-a-multilayer-feed-forward-neural-network-used-for-classification_fig2_333804204&psig=AOvVaw0nRl3AwGbnRt7Z12oDWqi3&ust=1625905126924000&source=images&cd=vfe&ved=0CAoQjRxqFwoTCLiZqOjG1fECFQAAAAAdAAAAABAD)"
   ]
  },
  {
   "cell_type": "code",
   "execution_count": 17,
   "metadata": {},
   "outputs": [],
   "source": [
    "class dnn_ffnn(nn.Module):\n",
    "\n",
    "    def __init__(self,):\n",
    "        super(dnn_ffnn, self).__init__()\n",
    "        self.linear1 = nn.Linear(25, 128) # IL - H1   # [num, 39] -> [num, 1024]\n",
    "        self.linear2 = nn.Linear(128, 64)\n",
    "        self.linear3 = nn.Linear(64, 5)\n",
    "    def forward(self, x):\n",
    "        x = F.relu(self.linear1(x))\n",
    "        x = F.relu(self.linear2(x))\n",
    "        #x = F.sigmoid(self.linear3(x))\n",
    "        x=self.linear3(x)\n",
    "        return x\n"
   ]
  },
  {
   "cell_type": "markdown",
   "metadata": {},
   "source": [
    "#### Weights initialization\n",
    "\n",
    "* torch.nn.init.xavier_normal_(layer) :  Initialize weights from normal distribution.\n",
    "* torch.nn.init.xavier_normal_(layer) :  Initialize weights from uniform distribution."
   ]
  },
  {
   "cell_type": "code",
   "execution_count": 18,
   "metadata": {},
   "outputs": [],
   "source": [
    "# for weight initialization\n",
    "def initialize_weights(model_layer):\n",
    "    if type(model_layer) == nn.Linear:\n",
    "        torch.nn.init.xavier_normal_(model_layer.weight)"
   ]
  },
  {
   "cell_type": "code",
   "execution_count": null,
   "metadata": {},
   "outputs": [],
   "source": [
    "device = torch.device(\"cuda:0\")"
   ]
  },
  {
   "cell_type": "code",
   "execution_count": 19,
   "metadata": {},
   "outputs": [],
   "source": [
    "# for calling model       \n",
    "model=dnn_ffnn() "
   ]
  },
  {
   "cell_type": "code",
   "execution_count": 20,
   "metadata": {},
   "outputs": [
    {
     "data": {
      "text/plain": [
       "dnn_ffnn(\n",
       "  (linear1): Linear(in_features=25, out_features=128, bias=True)\n",
       "  (linear2): Linear(in_features=128, out_features=64, bias=True)\n",
       "  (linear3): Linear(in_features=64, out_features=5, bias=True)\n",
       ")"
      ]
     },
     "execution_count": 20,
     "metadata": {},
     "output_type": "execute_result"
    }
   ],
   "source": [
    "model.apply(initialize_weights)"
   ]
  },
  {
   "cell_type": "code",
   "execution_count": null,
   "metadata": {},
   "outputs": [],
   "source": [
    "model = model.to(device)"
   ]
  },
  {
   "cell_type": "markdown",
   "metadata": {},
   "source": [
    "#### Optimizer and loss function\n",
    "\n",
    "* Optimizers are algorithms used to learn weights of the neural network by decreasing the loss.\n",
    "* Gradient descent is the basis optimizer but it gets stuck in local minima for non-convex.\n",
    "* There are various optimizers proposed like Adagrad, RMSProp, Adam, etc. Adam is the most used optimizer.\n",
    "---------------------------------------------------------------------------------------------------------\n",
    "* Loss function tells us how close we are to the actual target. Depending upon the loss we update the paramters.\n",
    "* **Loss function:**\n",
    "    * Mean square loss: Used when we learn the mapping function (Regression)\n",
    "    * Cross entropy loss: Used when we learn the decision boundary (Classification)"
   ]
  },
  {
   "cell_type": "code",
   "execution_count": 21,
   "metadata": {},
   "outputs": [],
   "source": [
    "optimizer = optim.Adam(model.parameters(), lr=0.01)\n",
    "criterion1 = nn.CrossEntropyLoss()\n",
    "criterion2 = nn.CrossEntropyLoss()"
   ]
  },
  {
   "cell_type": "markdown",
   "metadata": {},
   "source": [
    "#### Training and saving checkpoint"
   ]
  },
  {
   "cell_type": "code",
   "execution_count": 22,
   "metadata": {},
   "outputs": [],
   "source": [
    "def train(epoch):\n",
    "    model.train()\n",
    "    running_loss = 0\n",
    "    #running_corr = 0\n",
    "    for batch_id, batch in enumerate(train_loader):\n",
    "        optimizer.zero_grad()\n",
    "\n",
    "        train_data, train_labels = batch[0], batch[1] ## batch is tuple which has features and it's labels\n",
    "        \n",
    "        train_data = train_data.to(dtype=torch.float) ## Make sure to convert the datatype to float.\n",
    "        train_labels = train_labels.to(dtype=torch.float)\n",
    "        \n",
    "        output = model(train_data)                    ## Training data is passed to the model\n",
    "        output = output.reshape(len(batch[1]),5)\n",
    "\n",
    "        train_labels = torch.squeeze(train_labels)\n",
    "        train_labels = train_labels.type(torch.LongTensor)\n",
    "\n",
    "\n",
    "        loss = criterion1(output, train_labels)      ## Cross entropy loss to compute the loss.\n",
    "        loss.backward()                              ## Backpropagation\n",
    "        \n",
    "        optimizer.step()\n",
    "        \n",
    "        loss = criterion1(output, train_labels)\n",
    "        \n",
    "        running_loss+=loss.data\n",
    "\n",
    "    loss = running_loss/len(train_loader.dataset)\n",
    "    \n",
    "    print(f'Total Training Loss: {loss} Epochs: {epoch}')\n",
    "    \n",
    "    valid_running_loss = 0\n",
    "    for valid_batch_id, valid_batch in enumerate(valid_loader):\n",
    "\n",
    "        valid_feat, valid_lab = valid_batch[0], valid_batch[1]\n",
    "\n",
    "        valid_feat = valid_feat.to(dtype=torch.float)\n",
    "        valid_lab = valid_lab.to(dtype=torch.float)\n",
    "        \n",
    "        op_val=model(valid_feat)    \n",
    "        \n",
    "        op_val = op_val.reshape(len(valid_batch[1]),5)\n",
    "        valid_lab = torch.squeeze(valid_lab)\n",
    "        valid_lab = valid_lab.type(torch.LongTensor)\n",
    "    \n",
    "        valid_loss=criterion1(op_val, valid_lab)\n",
    "        valid_running_loss +=valid_loss.data\n",
    "        \n",
    "    valid_loss=valid_running_loss/len(valid_loader.dataset)\n",
    "\n",
    "    print(f'Total valid Loss: {valid_loss}  Epochs: {epoch}')\n",
    "    # Saving the model\n",
    "    checkpoint_dict = {\n",
    "                    'batch_id':batch_id,\n",
    "                    'epoch' : epoch,\n",
    "                    'model_state' : model.state_dict(),\n",
    "                    'optim_state' : optimizer.state_dict(),\n",
    "                    }\n",
    "    torch.save(checkpoint_dict ,'/home/sysad/Documents/IEEE_Summer_school/gitrepos/IEEE-Summer-School/Day_4_SID/model_checkpoint.pth')\n",
    "    return loss,valid_loss"
   ]
  },
  {
   "cell_type": "code",
   "execution_count": 23,
   "metadata": {},
   "outputs": [
    {
     "name": "stdout",
     "output_type": "stream",
     "text": [
      "Total Training Loss: 0.09346649795770645 Epochs: 0\n",
      "Total valid Loss: 0.08150135725736618  Epochs: 0\n",
      "Total Training Loss: 0.08190885931253433 Epochs: 1\n",
      "Total valid Loss: 0.07796397060155869  Epochs: 1\n",
      "Total Training Loss: 0.07908134907484055 Epochs: 2\n",
      "Total valid Loss: 0.07829879969358444  Epochs: 2\n",
      "Total Training Loss: 0.07773794233798981 Epochs: 3\n",
      "Total valid Loss: 0.07941295951604843  Epochs: 3\n",
      "Total Training Loss: 0.07688693702220917 Epochs: 4\n",
      "Total valid Loss: 0.07925274223089218  Epochs: 4\n"
     ]
    }
   ],
   "source": [
    "total_epochs = 5\n",
    "tr_loss=np.zeros((total_epochs,1),dtype=float)\n",
    "\n",
    "val_loss=np.zeros((total_epochs,1),dtype=float)\n",
    "\n",
    "for epoch in range(0, total_epochs):\n",
    "    [tr_loss[epoch],val_loss[epoch]]=train(epoch)"
   ]
  },
  {
   "cell_type": "code",
   "execution_count": 24,
   "metadata": {},
   "outputs": [
    {
     "data": {
      "text/plain": [
       "[<matplotlib.lines.Line2D at 0x7fc539c47390>]"
      ]
     },
     "execution_count": 24,
     "metadata": {},
     "output_type": "execute_result"
    },
    {
     "data": {
      "image/png": "[encoded data removed]",
      "text/plain": [
       "<Figure size 432x288 with 1 Axes>"
      ]
     },
     "metadata": {
      "needs_background": "light"
     },
     "output_type": "display_data"
    }
   ],
   "source": [
    "plt.plot(tr_loss)"
   ]
  },
  {
   "cell_type": "markdown",
   "metadata": {},
   "source": [
    "### Testing"
   ]
  },
  {
   "cell_type": "code",
   "execution_count": 25,
   "metadata": {},
   "outputs": [],
   "source": [
    "\n",
    "wav_path = '/home/sysad/Documents/IEEE_Summer_school/gitrepos/IEEE-Summer-School/Day_4_SID/Dataset/Test_Folder/1011/1011_AH01OENC_02.wav'\n",
    "\n",
    "         \n",
    "frame_period = 5\n",
    "fftlen = pyworld.get_cheaptrick_fft_size(8000)\n",
    "alpha = pysptk.util.mcepalpha(8000)\n",
    "order = 24\n",
    "        \n",
    "speech, fs = librosa.load(wav_path, sr=8000)\n",
    "speech = speech.astype(np.float64)\n",
    "f0, time_axis = pyworld.dio(speech, fs, frame_period=frame_period)\n",
    "f0 = pyworld.stonemask(speech, f0, time_axis, fs)\n",
    "spectrogram = pyworld.cheaptrick(speech, f0, time_axis, fs)\n",
    "mfcc = pysptk.sp2mc(spectrogram, order=order, alpha= alpha)\n",
    "                \n",
    "file_feats = np.asmatrix(mfcc[:,:])"
   ]
  },
  {
   "cell_type": "code",
   "execution_count": 26,
   "metadata": {},
   "outputs": [
    {
     "name": "stdout",
     "output_type": "stream",
     "text": [
      "Size of input test feature:  (5992, 25)\n"
     ]
    }
   ],
   "source": [
    "print(\"Size of input test feature: \",np.shape(mfcc))"
   ]
  },
  {
   "cell_type": "code",
   "execution_count": 27,
   "metadata": {},
   "outputs": [
    {
     "data": {
      "text/plain": [
       "torch.Size([5992, 25])"
      ]
     },
     "execution_count": 27,
     "metadata": {},
     "output_type": "execute_result"
    }
   ],
   "source": [
    "test_features = torch.from_numpy(mfcc)\n",
    "test_features = test_features.to(dtype=torch.float)\n",
    "test_features.shape"
   ]
  },
  {
   "cell_type": "code",
   "execution_count": 28,
   "metadata": {},
   "outputs": [
    {
     "data": {
      "text/plain": [
       "dnn_ffnn(\n",
       "  (linear1): Linear(in_features=25, out_features=128, bias=True)\n",
       "  (linear2): Linear(in_features=128, out_features=64, bias=True)\n",
       "  (linear3): Linear(in_features=64, out_features=5, bias=True)\n",
       ")"
      ]
     },
     "execution_count": 28,
     "metadata": {},
     "output_type": "execute_result"
    }
   ],
   "source": [
    "model = dnn_ffnn()\n",
    "\n",
    "checkpoint = torch.load('/home/sysad/Documents/IEEE_Summer_school/gitrepos/IEEE-Summer-School/Day_4_SID/model_checkpoint.pth')\n",
    "\n",
    "epoch = checkpoint['epoch']\n",
    "batch_id = checkpoint['batch_id']\n",
    "model.load_state_dict(checkpoint['model_state'])\n",
    "optimizer.load_state_dict(checkpoint['optim_state'])\n",
    "\n",
    "model.eval()"
   ]
  },
  {
   "cell_type": "code",
   "execution_count": 29,
   "metadata": {},
   "outputs": [],
   "source": [
    "test_output = model(test_features)"
   ]
  },
  {
   "cell_type": "code",
   "execution_count": 30,
   "metadata": {},
   "outputs": [
    {
     "data": {
      "text/plain": [
       "torch.Size([5992, 5])"
      ]
     },
     "execution_count": 30,
     "metadata": {},
     "output_type": "execute_result"
    }
   ],
   "source": [
    "test_output.shape"
   ]
  },
  {
   "cell_type": "code",
   "execution_count": 31,
   "metadata": {},
   "outputs": [
    {
     "data": {
      "text/plain": [
       "tensor([2, 3, 2,  ..., 1, 2, 2])"
      ]
     },
     "execution_count": 31,
     "metadata": {},
     "output_type": "execute_result"
    }
   ],
   "source": [
    "indexes = torch.argmax(test_output, dim=1)\n",
    "indexes"
   ]
  },
  {
   "cell_type": "code",
   "execution_count": 32,
   "metadata": {},
   "outputs": [],
   "source": [
    "speaker = torch.mode(indexes,0)"
   ]
  },
  {
   "cell_type": "code",
   "execution_count": 33,
   "metadata": {},
   "outputs": [
    {
     "data": {
      "text/plain": [
       "tensor(1)"
      ]
     },
     "execution_count": 33,
     "metadata": {},
     "output_type": "execute_result"
    }
   ],
   "source": [
    "speaker.values"
   ]
  },
  {
   "cell_type": "markdown",
   "metadata": {},
   "source": [
    "### Thankyou"
   ]
  }
 ],
 "metadata": {
  "colab": {
   "name": "ASV.ipynb",
   "provenance": []
  },
  "kernelspec": {
   "display_name": "Python 3",
   "language": "python",
   "name": "python3"
  },
  "language_info": {
   "codemirror_mode": {
    "name": "ipython",
    "version": 3
   },
   "file_extension": ".py",
   "mimetype": "text/x-python",
   "name": "python",
   "nbconvert_exporter": "python",
   "pygments_lexer": "ipython3",
   "version": "3.6.6"
  }
 },
 "nbformat": 4,
 "nbformat_minor": 1
}
